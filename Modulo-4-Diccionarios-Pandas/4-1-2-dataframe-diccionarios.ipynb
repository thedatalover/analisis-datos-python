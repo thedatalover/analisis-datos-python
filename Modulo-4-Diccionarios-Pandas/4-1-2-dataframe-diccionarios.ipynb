{
 "cells": [
  {
   "cell_type": "markdown",
   "metadata": {},
   "source": [
    "# Creando DataFrames con Diccionarios\n",
    "\n",
    "Origen de los datos: [Departamento de Asuntos Sociales y Económicos de las Naciones Unidas](https://population.un.org/wpp/Download/Standard/CSV/)"
   ]
  },
  {
   "cell_type": "code",
   "execution_count": 1,
   "metadata": {},
   "outputs": [],
   "source": [
    "# Crear un diccionario con los datos del DataFrame\n",
    "poblacion = {\n",
    "    \"Año\": [2014, 2015, 2016, 2017, 2018, 2019, 2020],\n",
    "    \"Canada\": [35664338, 36026668, 36382942, 36732091, 37074558, 37411038, 37742157],\n",
    "    \"Mexico\": [120355137, 121858251, 123333379, 124777326, 126190782, 127575529, 128932753],\n",
    "    \"Estados Unidos\": [318673422, 320878312, 323015992, 325084758, 327096263, 329064917, 331002647]\n",
    "}"
   ]
  },
  {
   "cell_type": "code",
   "execution_count": 2,
   "metadata": {},
   "outputs": [
    {
     "data": {
      "text/plain": [
       "{'Año': [2014, 2015, 2016, 2017, 2018, 2019, 2020],\n",
       " 'Canada': [35664338,\n",
       "  36026668,\n",
       "  36382942,\n",
       "  36732091,\n",
       "  37074558,\n",
       "  37411038,\n",
       "  37742157],\n",
       " 'Mexico': [120355137,\n",
       "  121858251,\n",
       "  123333379,\n",
       "  124777326,\n",
       "  126190782,\n",
       "  127575529,\n",
       "  128932753],\n",
       " 'Estados Unidos': [318673422,\n",
       "  320878312,\n",
       "  323015992,\n",
       "  325084758,\n",
       "  327096263,\n",
       "  329064917,\n",
       "  331002647]}"
      ]
     },
     "execution_count": 2,
     "metadata": {},
     "output_type": "execute_result"
    }
   ],
   "source": [
    "# Mostrar datos del diccionario\n",
    "poblacion"
   ]
  },
  {
   "cell_type": "code",
   "execution_count": 3,
   "metadata": {},
   "outputs": [],
   "source": [
    "# Importar la libreria Pandas\n",
    "import pandas as pd"
   ]
  },
  {
   "cell_type": "code",
   "execution_count": 4,
   "metadata": {},
   "outputs": [],
   "source": [
    "# Crear un DataFrame con los datos del diccionario\n",
    "df_poblacion = pd.DataFrame(poblacion)"
   ]
  },
  {
   "cell_type": "code",
   "execution_count": 5,
   "metadata": {},
   "outputs": [
    {
     "data": {
      "text/html": [
       "<div>\n",
       "<style scoped>\n",
       "    .dataframe tbody tr th:only-of-type {\n",
       "        vertical-align: middle;\n",
       "    }\n",
       "\n",
       "    .dataframe tbody tr th {\n",
       "        vertical-align: top;\n",
       "    }\n",
       "\n",
       "    .dataframe thead th {\n",
       "        text-align: right;\n",
       "    }\n",
       "</style>\n",
       "<table border=\"1\" class=\"dataframe\">\n",
       "  <thead>\n",
       "    <tr style=\"text-align: right;\">\n",
       "      <th></th>\n",
       "      <th>Año</th>\n",
       "      <th>Canada</th>\n",
       "      <th>Mexico</th>\n",
       "      <th>Estados Unidos</th>\n",
       "    </tr>\n",
       "  </thead>\n",
       "  <tbody>\n",
       "    <tr>\n",
       "      <th>0</th>\n",
       "      <td>2014</td>\n",
       "      <td>35664338</td>\n",
       "      <td>120355137</td>\n",
       "      <td>318673422</td>\n",
       "    </tr>\n",
       "    <tr>\n",
       "      <th>1</th>\n",
       "      <td>2015</td>\n",
       "      <td>36026668</td>\n",
       "      <td>121858251</td>\n",
       "      <td>320878312</td>\n",
       "    </tr>\n",
       "    <tr>\n",
       "      <th>2</th>\n",
       "      <td>2016</td>\n",
       "      <td>36382942</td>\n",
       "      <td>123333379</td>\n",
       "      <td>323015992</td>\n",
       "    </tr>\n",
       "    <tr>\n",
       "      <th>3</th>\n",
       "      <td>2017</td>\n",
       "      <td>36732091</td>\n",
       "      <td>124777326</td>\n",
       "      <td>325084758</td>\n",
       "    </tr>\n",
       "    <tr>\n",
       "      <th>4</th>\n",
       "      <td>2018</td>\n",
       "      <td>37074558</td>\n",
       "      <td>126190782</td>\n",
       "      <td>327096263</td>\n",
       "    </tr>\n",
       "    <tr>\n",
       "      <th>5</th>\n",
       "      <td>2019</td>\n",
       "      <td>37411038</td>\n",
       "      <td>127575529</td>\n",
       "      <td>329064917</td>\n",
       "    </tr>\n",
       "    <tr>\n",
       "      <th>6</th>\n",
       "      <td>2020</td>\n",
       "      <td>37742157</td>\n",
       "      <td>128932753</td>\n",
       "      <td>331002647</td>\n",
       "    </tr>\n",
       "  </tbody>\n",
       "</table>\n",
       "</div>"
      ],
      "text/plain": [
       "    Año    Canada     Mexico  Estados Unidos\n",
       "0  2014  35664338  120355137       318673422\n",
       "1  2015  36026668  121858251       320878312\n",
       "2  2016  36382942  123333379       323015992\n",
       "3  2017  36732091  124777326       325084758\n",
       "4  2018  37074558  126190782       327096263\n",
       "5  2019  37411038  127575529       329064917\n",
       "6  2020  37742157  128932753       331002647"
      ]
     },
     "execution_count": 5,
     "metadata": {},
     "output_type": "execute_result"
    }
   ],
   "source": [
    "# Mostrar los datos de un DataFrame imprimiento la variable\n",
    "df_poblacion"
   ]
  },
  {
   "cell_type": "code",
   "execution_count": 6,
   "metadata": {},
   "outputs": [],
   "source": [
    "# Definir como índice la columna año\n",
    "df_poblacion = df_poblacion.set_index(\"Año\")"
   ]
  },
  {
   "cell_type": "code",
   "execution_count": 7,
   "metadata": {},
   "outputs": [
    {
     "data": {
      "text/html": [
       "<div>\n",
       "<style scoped>\n",
       "    .dataframe tbody tr th:only-of-type {\n",
       "        vertical-align: middle;\n",
       "    }\n",
       "\n",
       "    .dataframe tbody tr th {\n",
       "        vertical-align: top;\n",
       "    }\n",
       "\n",
       "    .dataframe thead th {\n",
       "        text-align: right;\n",
       "    }\n",
       "</style>\n",
       "<table border=\"1\" class=\"dataframe\">\n",
       "  <thead>\n",
       "    <tr style=\"text-align: right;\">\n",
       "      <th></th>\n",
       "      <th>Canada</th>\n",
       "      <th>Mexico</th>\n",
       "      <th>Estados Unidos</th>\n",
       "    </tr>\n",
       "    <tr>\n",
       "      <th>Año</th>\n",
       "      <th></th>\n",
       "      <th></th>\n",
       "      <th></th>\n",
       "    </tr>\n",
       "  </thead>\n",
       "  <tbody>\n",
       "    <tr>\n",
       "      <th>2014</th>\n",
       "      <td>35664338</td>\n",
       "      <td>120355137</td>\n",
       "      <td>318673422</td>\n",
       "    </tr>\n",
       "    <tr>\n",
       "      <th>2015</th>\n",
       "      <td>36026668</td>\n",
       "      <td>121858251</td>\n",
       "      <td>320878312</td>\n",
       "    </tr>\n",
       "    <tr>\n",
       "      <th>2016</th>\n",
       "      <td>36382942</td>\n",
       "      <td>123333379</td>\n",
       "      <td>323015992</td>\n",
       "    </tr>\n",
       "    <tr>\n",
       "      <th>2017</th>\n",
       "      <td>36732091</td>\n",
       "      <td>124777326</td>\n",
       "      <td>325084758</td>\n",
       "    </tr>\n",
       "    <tr>\n",
       "      <th>2018</th>\n",
       "      <td>37074558</td>\n",
       "      <td>126190782</td>\n",
       "      <td>327096263</td>\n",
       "    </tr>\n",
       "    <tr>\n",
       "      <th>2019</th>\n",
       "      <td>37411038</td>\n",
       "      <td>127575529</td>\n",
       "      <td>329064917</td>\n",
       "    </tr>\n",
       "    <tr>\n",
       "      <th>2020</th>\n",
       "      <td>37742157</td>\n",
       "      <td>128932753</td>\n",
       "      <td>331002647</td>\n",
       "    </tr>\n",
       "  </tbody>\n",
       "</table>\n",
       "</div>"
      ],
      "text/plain": [
       "        Canada     Mexico  Estados Unidos\n",
       "Año                                      \n",
       "2014  35664338  120355137       318673422\n",
       "2015  36026668  121858251       320878312\n",
       "2016  36382942  123333379       323015992\n",
       "2017  36732091  124777326       325084758\n",
       "2018  37074558  126190782       327096263\n",
       "2019  37411038  127575529       329064917\n",
       "2020  37742157  128932753       331002647"
      ]
     },
     "execution_count": 7,
     "metadata": {},
     "output_type": "execute_result"
    }
   ],
   "source": [
    "# Mostrar el nuevo índice del DataFrame\n",
    "df_poblacion"
   ]
  },
  {
   "cell_type": "code",
   "execution_count": 8,
   "metadata": {},
   "outputs": [],
   "source": [
    "# Guardar DataFrame como CSV\n",
    "df_poblacion.to_csv(\"datos-poblacion-noteamerica.csv\")"
   ]
  },
  {
   "cell_type": "code",
   "execution_count": null,
   "metadata": {},
   "outputs": [],
   "source": []
  }
 ],
 "metadata": {
  "kernelspec": {
   "display_name": "Python 3",
   "language": "python",
   "name": "python3"
  },
  "language_info": {
   "codemirror_mode": {
    "name": "ipython",
    "version": 3
   },
   "file_extension": ".py",
   "mimetype": "text/x-python",
   "name": "python",
   "nbconvert_exporter": "python",
   "pygments_lexer": "ipython3",
   "version": "3.7.6"
  }
 },
 "nbformat": 4,
 "nbformat_minor": 4
}
