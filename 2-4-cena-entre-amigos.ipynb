{
 "cells": [
  {
   "cell_type": "markdown",
   "metadata": {},
   "source": [
    "# Calculando el Costo de una Cena entre Amigos\n",
    "\n",
    "## Contexto del problema\n",
    "\n",
    "Supongamos que salimos a cenar tres amigos, y al finaliza la velada, queremos dividir la cuenta entre los tres y dejar el 15% de propina."
   ]
  },
  {
   "cell_type": "code",
   "execution_count": 1,
   "metadata": {},
   "outputs": [],
   "source": [
    "# Asignando el valor de los alimentos\n",
    "entrantes = 150\n",
    "plato_principal = 600\n",
    "postre = 80\n",
    "bebidas = 180"
   ]
  },
  {
   "cell_type": "code",
   "execution_count": 2,
   "metadata": {},
   "outputs": [],
   "source": [
    "# Calculando el total de la cena\n",
    "total = entrantes + plato_principal + postre + bebidas"
   ]
  },
  {
   "cell_type": "code",
   "execution_count": 3,
   "metadata": {},
   "outputs": [],
   "source": [
    "# Calculando la propina\n",
    "propina = total * 0.15"
   ]
  },
  {
   "cell_type": "code",
   "execution_count": 4,
   "metadata": {},
   "outputs": [],
   "source": [
    "# Calculando el gran total\n",
    "gran_total = total + propina"
   ]
  },
  {
   "cell_type": "code",
   "execution_count": 5,
   "metadata": {},
   "outputs": [],
   "source": [
    "# Calculando cuanto deberá pagar cada comensal\n",
    "amigos = 3\n",
    "pago = gran_total / amigos"
   ]
  },
  {
   "cell_type": "code",
   "execution_count": 6,
   "metadata": {},
   "outputs": [
    {
     "name": "stdout",
     "output_type": "stream",
     "text": [
      "El valor total de la cena fue: $1010\n",
      "La propina a pagar es: $151.5\n",
      "El gran total a pagar es: $1161.5\n",
      "A cada uno de los 3 le toca pagar $387.17\n"
     ]
    }
   ],
   "source": [
    "# Mostrar resultados\n",
    "print(f\"El valor total de la cena fue: ${total}\")\n",
    "print(f\"La propina a pagar es: ${propina}\")\n",
    "print(f\"El gran total a pagar es: ${gran_total}\")\n",
    "print(f\"A cada uno de los {amigos} le toca pagar ${pago:.2f}\")"
   ]
  },
  {
   "cell_type": "code",
   "execution_count": null,
   "metadata": {},
   "outputs": [],
   "source": []
  }
 ],
 "metadata": {
  "kernelspec": {
   "display_name": "Python 3",
   "language": "python",
   "name": "python3"
  },
  "language_info": {
   "codemirror_mode": {
    "name": "ipython",
    "version": 3
   },
   "file_extension": ".py",
   "mimetype": "text/x-python",
   "name": "python",
   "nbconvert_exporter": "python",
   "pygments_lexer": "ipython3",
   "version": "3.7.4"
  }
 },
 "nbformat": 4,
 "nbformat_minor": 4
}
