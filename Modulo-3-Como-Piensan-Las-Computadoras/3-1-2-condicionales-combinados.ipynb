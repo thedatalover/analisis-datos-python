{
 "cells": [
  {
   "cell_type": "markdown",
   "metadata": {},
   "source": [
    "# Combinando condiciones: Caso práctico de descuento en una compra"
   ]
  },
  {
   "cell_type": "code",
   "execution_count": 6,
   "metadata": {},
   "outputs": [],
   "source": [
    "# Costo de los artículos\n",
    "camiseta = 15\n",
    "pantalon = 65\n",
    "tenis = 1"
   ]
  },
  {
   "cell_type": "code",
   "execution_count": 7,
   "metadata": {},
   "outputs": [],
   "source": [
    "# Calcular el monto total de la compra\n",
    "compra = camiseta + pantalon + tenis"
   ]
  },
  {
   "cell_type": "code",
   "execution_count": 8,
   "metadata": {},
   "outputs": [
    {
     "name": "stdout",
     "output_type": "stream",
     "text": [
      "Gracias por tu compra, el total es: $81\n"
     ]
    }
   ],
   "source": [
    "# Imprimir el monto total de la compra\n",
    "print(f\"Gracias por tu compra, el total es: ${compra}\")"
   ]
  },
  {
   "cell_type": "code",
   "execution_count": 10,
   "metadata": {},
   "outputs": [
    {
     "ename": "SyntaxError",
     "evalue": "invalid syntax (<ipython-input-10-a21531abca3f>, line 9)",
     "output_type": "error",
     "traceback": [
      "\u001b[0;36m  File \u001b[0;32m\"<ipython-input-10-a21531abca3f>\"\u001b[0;36m, line \u001b[0;32m9\u001b[0m\n\u001b[0;31m    else:\u001b[0m\n\u001b[0m       ^\u001b[0m\n\u001b[0;31mSyntaxError\u001b[0m\u001b[0;31m:\u001b[0m invalid syntax\n"
     ]
    }
   ],
   "source": [
    "# Calcular descuento\n",
    "if compra < 100:    \n",
    "    print(\"Las compras inferiores a $100 no tienen descuento\")\n",
    "elif compra >= 100 and compra < 500:\n",
    "    print(\"Tu compra tiene un 10% de descuento\")\n",
    "    print(f\"Compra sin descuento: ${compra:.2f}\")\n",
    "    print(f\"Compra con descuento incluido: ${(compra - compra * 0.10):.2f}\")\n",
    "    print(f\"Tu ahorro en esta compra fue de: ${(compra * 0.10):.2f}\")\n",
    "else:\n",
    "    print(\"Tu compra tiene un 20% de descuento\")\n",
    "    print(f\"Compra sin descuento: ${compra:.2f}\")\n",
    "    print(f\"Compra con descuento incluido: ${(compra - compra * 0.20):.2f}\")\n",
    "    print(f\"Tu ahorro en esta compra fue de: ${(compra * 0.20):.2f}\")"
   ]
  }
 ],
 "metadata": {
  "kernelspec": {
   "display_name": "Python 3",
   "language": "python",
   "name": "python3"
  },
  "language_info": {
   "codemirror_mode": {
    "name": "ipython",
    "version": 3
   },
   "file_extension": ".py",
   "mimetype": "text/x-python",
   "name": "python",
   "nbconvert_exporter": "python",
   "pygments_lexer": "ipython3",
   "version": "3.7.6"
  }
 },
 "nbformat": 4,
 "nbformat_minor": 4
}
