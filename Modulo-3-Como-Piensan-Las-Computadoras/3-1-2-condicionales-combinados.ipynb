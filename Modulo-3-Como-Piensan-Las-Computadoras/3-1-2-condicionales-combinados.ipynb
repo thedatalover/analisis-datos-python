{
 "cells": [
  {
   "cell_type": "markdown",
   "metadata": {},
   "source": [
    "# Combinando condiciones: Caso práctico de descuento en una compra"
   ]
  },
  {
   "cell_type": "code",
   "execution_count": null,
   "metadata": {},
   "outputs": [],
   "source": [
    "# Costo de los artículos\n",
    "camiseta = 150\n",
    "pantalon = 650\n",
    "tenis = 1200"
   ]
  },
  {
   "cell_type": "code",
   "execution_count": null,
   "metadata": {},
   "outputs": [],
   "source": [
    "# Calcular el monto total de la compra\n",
    "compra = camiseta + pantalon + tenis"
   ]
  },
  {
   "cell_type": "code",
   "execution_count": null,
   "metadata": {},
   "outputs": [],
   "source": [
    "# Calcular descuento\n",
    "print(f\"Gracias por tu compra, el total es: ${compra}\")\n",
    "\n",
    "if compra < 100:    \n",
    "    print(\"Las compras inferiores a $100 no tienen descuento\")\n",
    "elif compra >= 100 and compra < 500:\n",
    "    print(\"Tu compra tiene un 10% de descuento\")\n",
    "    print(f\"Compra sin descuento: ${compra:.2f}\")\n",
    "    print(f\"Compra con descuento incluido: ${(compra - compra * 0.10):.2f}\")\n",
    "    print(f\"Tu ahorro en esta compra fue de: ${(compra * 0.10):.2f}\")\n",
    "else:\n",
    "    print(\"Tu compra tiene un 20% de descuento\")\n",
    "    print(f\"Compra sin descuento: ${compra:.2f}\")\n",
    "    print(f\"Compra con descuento incluido: ${(compra - compra * 0.20):.2f}\")\n",
    "    print(f\"Tu ahorro en esta compra fue de: ${(compra * 0.20):.2f}\")"
   ]
  }
 ],
 "metadata": {
  "kernelspec": {
   "display_name": "Python 3",
   "language": "python",
   "name": "python3"
  },
  "language_info": {
   "codemirror_mode": {
    "name": "ipython",
    "version": 3
   },
   "file_extension": ".py",
   "mimetype": "text/x-python",
   "name": "python",
   "nbconvert_exporter": "python",
   "pygments_lexer": "ipython3",
   "version": "3.7.6"
  }
 },
 "nbformat": 4,
 "nbformat_minor": 4
}
