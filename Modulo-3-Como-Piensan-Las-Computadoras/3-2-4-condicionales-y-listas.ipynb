{
 "cells": [
  {
   "cell_type": "markdown",
   "metadata": {},
   "source": [
    "# Combinando condiciones y listas: Caso práctico de descuento en una compra"
   ]
  },
  {
   "cell_type": "code",
   "execution_count": null,
   "metadata": {},
   "outputs": [],
   "source": [
    "# Costo de los artículos\n",
    "camiseta = 150\n",
    "pantalon = 650\n",
    "tenis = 1200"
   ]
  },
  {
   "cell_type": "code",
   "execution_count": null,
   "metadata": {},
   "outputs": [],
   "source": [
    "# Calcular el monto total de la compra\n",
    "compra = camiseta + pantalon + tenis"
   ]
  },
  {
   "cell_type": "markdown",
   "metadata": {},
   "source": [
    "## Definiendo lista de la compra usando una lista de listas"
   ]
  },
  {
   "cell_type": "code",
   "execution_count": null,
   "metadata": {},
   "outputs": [],
   "source": [
    "articulos = [\n",
    "    [\"camiseta\", 150],\n",
    "    [\"pantalon\", 650],\n",
    "    [\"tenis\", 1200]\n",
    "]"
   ]
  },
  {
   "cell_type": "code",
   "execution_count": null,
   "metadata": {},
   "outputs": [],
   "source": [
    "# Agregando un nuevo producto\n",
    "articulos.append([\"calcetines\", 80])"
   ]
  },
  {
   "cell_type": "code",
   "execution_count": null,
   "metadata": {},
   "outputs": [],
   "source": [
    "# Imprime el contenido de la lista\n",
    "articulos"
   ]
  },
  {
   "cell_type": "code",
   "execution_count": null,
   "metadata": {},
   "outputs": [],
   "source": [
    "# Calcular el monto total de los artículos usando la lista de listas\n",
    "compra = articulos[0][1] + articulos[1][1] + articulos[2][1] + articulos[3][1]"
   ]
  },
  {
   "cell_type": "markdown",
   "metadata": {},
   "source": [
    "## Definiendo lista de la compra con dos listas"
   ]
  },
  {
   "cell_type": "code",
   "execution_count": null,
   "metadata": {},
   "outputs": [],
   "source": [
    "productos = [\"camiseta\", \"pantalon\", \"tenis\"]\n",
    "precios = [150, 650, 1200]"
   ]
  },
  {
   "cell_type": "code",
   "execution_count": null,
   "metadata": {},
   "outputs": [],
   "source": [
    "# Agregando un nuevo producto\n",
    "productos.append(\"calcetines\")\n",
    "precios.append(80)"
   ]
  },
  {
   "cell_type": "code",
   "execution_count": null,
   "metadata": {},
   "outputs": [],
   "source": [
    "# Calcular el monto total de los artículos usando la función sum()\n",
    "compra = sum(precios)"
   ]
  },
  {
   "cell_type": "code",
   "execution_count": null,
   "metadata": {},
   "outputs": [],
   "source": [
    "# ¿Qué pasa si uso la función sum() en la lista producto?\n",
    "sum(productos)"
   ]
  },
  {
   "cell_type": "code",
   "execution_count": null,
   "metadata": {},
   "outputs": [],
   "source": [
    "# Imprimir el monto total de la compra\n",
    "print(f\"Gracias por tu compra, el total es: ${compra}\")"
   ]
  },
  {
   "cell_type": "code",
   "execution_count": null,
   "metadata": {},
   "outputs": [],
   "source": [
    "# Calcular descuento\n",
    "if compra < 100:    \n",
    "    print(\"Las compras inferiores a $100 no tienen descuento\")\n",
    "elif compra >= 100 and compra < 500:\n",
    "    print(\"Tu compra tiene un 10% de descuento\")\n",
    "    print(f\"Compra sin descuento: ${compra:.2f}\")\n",
    "    print(f\"Compra con descuento incluido: ${(compra - compra * 0.10):.2f}\")\n",
    "    print(f\"Tu ahorro en esta compra fue de: ${(compra * 0.10):.2f}\")\n",
    "else:\n",
    "    print(\"Tu compra tiene un 20% de descuento\")\n",
    "    print(f\"Compra sin descuento: ${compra:.2f}\")\n",
    "    print(f\"Compra con descuento incluido: ${(compra - compra * 0.20):.2f}\")\n",
    "    print(f\"Tu ahorro en esta compra fue de: ${(compra * 0.20):.2f}\")"
   ]
  }
 ],
 "metadata": {
  "kernelspec": {
   "display_name": "Python 3",
   "language": "python",
   "name": "python3"
  },
  "language_info": {
   "codemirror_mode": {
    "name": "ipython",
    "version": 3
   },
   "file_extension": ".py",
   "mimetype": "text/x-python",
   "name": "python",
   "nbconvert_exporter": "python",
   "pygments_lexer": "ipython3",
   "version": "3.7.6"
  }
 },
 "nbformat": 4,
 "nbformat_minor": 4
}
