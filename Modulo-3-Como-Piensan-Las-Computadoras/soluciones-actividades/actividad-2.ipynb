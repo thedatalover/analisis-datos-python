{
 "cells": [
  {
   "cell_type": "markdown",
   "metadata": {},
   "source": [
    "# Actividad 2 - Identificando a que Generación Perteneces"
   ]
  },
  {
   "cell_type": "code",
   "execution_count": null,
   "metadata": {},
   "outputs": [],
   "source": [
    "# Define una variable para almacenar el año de nacimiento\n",
    "anio = 1978"
   ]
  },
  {
   "cell_type": "code",
   "execution_count": null,
   "metadata": {},
   "outputs": [],
   "source": [
    "# Define una variable strig vacía para guardar el nombre de la generacion\n",
    "generacion = \"\"\n",
    "\n",
    "# Crea una estructura de condiciones para mostrar un mensaje con la generación a la que pertenece la persona\n",
    "if anio >= 1946 and anio <=1964:\n",
    "    generacion = \"Baby Boomer\"\n",
    "elif anio >= 1965 and anio <= 1979:\n",
    "    generacion = \"X\"\n",
    "elif anio >= 1980 and anio <= 1999:\n",
    "    generacion = \"Y (Milenials)\"\n",
    "else:\n",
    "    generacion = \"Z\"\n",
    "    \n",
    "# Imprime el mensaje con el nombre de la generación a la que pertence la persona\n",
    "print (f\"Dado que naciste en el año {anio}, pertences a la generación '{generacion}''\")"
   ]
  }
 ],
 "metadata": {
  "kernelspec": {
   "display_name": "Python 3",
   "language": "python",
   "name": "python3"
  },
  "language_info": {
   "codemirror_mode": {
    "name": "ipython",
    "version": 3
   },
   "file_extension": ".py",
   "mimetype": "text/x-python",
   "name": "python",
   "nbconvert_exporter": "python",
   "pygments_lexer": "ipython3",
   "version": "3.7.6"
  }
 },
 "nbformat": 4,
 "nbformat_minor": 4
}
